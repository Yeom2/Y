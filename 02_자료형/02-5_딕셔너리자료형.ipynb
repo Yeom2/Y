{
 "cells": [
  {
   "cell_type": "markdown",
   "metadata": {},
   "source": [
    "### 딕셔너리는 어떻게 만들까?\n",
    "{key1:value1, key2:value2,...}"
   ]
  },
  {
   "cell_type": "code",
   "execution_count": 9,
   "metadata": {},
   "outputs": [
    {
     "name": "stdout",
     "output_type": "stream",
     "text": [
      "{1: 'a', 2: 'b', 'name': 'pey'}\n"
     ]
    }
   ],
   "source": [
    "# 딕셔너리 쌍 추가하기\n",
    "a = {1: \"a\"}\n",
    "a[2] = \"b\"\n",
    "\n",
    "a[\"name\"] = \"pey\"\n",
    "\n",
    "print(a)"
   ]
  },
  {
   "cell_type": "code",
   "execution_count": 16,
   "metadata": {},
   "outputs": [
    {
     "name": "stdout",
     "output_type": "stream",
     "text": [
      "{1: 'hi'}\n",
      "{1: 'hi', 'name': '홍길동'}\n"
     ]
    }
   ],
   "source": [
    "# 딕셔너리 요소 수정\n",
    "print(a)\n",
    "\n",
    "a[\"name\"] = \"홍길동\"\n",
    "print(a)"
   ]
  },
  {
   "cell_type": "code",
   "execution_count": 22,
   "metadata": {},
   "outputs": [
    {
     "name": "stdout",
     "output_type": "stream",
     "text": [
      "{}\n"
     ]
    }
   ],
   "source": [
    "# 딕셔너리 요소 삭제\n",
    "\n",
    "del a[1]\n",
    "print(a)"
   ]
  },
  {
   "cell_type": "code",
   "execution_count": 26,
   "metadata": {},
   "outputs": [
    {
     "name": "stdout",
     "output_type": "stream",
     "text": [
      "10\n",
      "99\n"
     ]
    }
   ],
   "source": [
    "# 딕셔너리에서 key를 사용해 value 얻기\n",
    "grade = {'pey' : 10, 'julliet' : 99}\n",
    "\n",
    "print(grade['pey'])\n",
    "print(grade['julliet'])"
   ]
  },
  {
   "cell_type": "code",
   "execution_count": 27,
   "metadata": {},
   "outputs": [
    {
     "name": "stdout",
     "output_type": "stream",
     "text": [
      "{1: 'b'}\n"
     ]
    }
   ],
   "source": [
    "# 딕셔너리를 만들때 주의사항\n",
    "a = {1:'a', 1:'b'}\n",
    "print(a)"
   ]
  },
  {
   "cell_type": "code",
   "execution_count": 28,
   "metadata": {},
   "outputs": [
    {
     "ename": "TypeError",
     "evalue": "unhashable type: 'list'",
     "output_type": "error",
     "traceback": [
      "\u001b[1;31m---------------------------------------------------------------------------\u001b[0m",
      "\u001b[1;31mTypeError\u001b[0m                                 Traceback (most recent call last)",
      "Cell \u001b[1;32mIn[28], line 1\u001b[0m\n\u001b[1;32m----> 1\u001b[0m a \u001b[38;5;241m=\u001b[39m {[\u001b[38;5;241m1\u001b[39m, \u001b[38;5;241m2\u001b[39m]:\u001b[38;5;124m\"\u001b[39m\u001b[38;5;124mhi\u001b[39m\u001b[38;5;124m\"\u001b[39m}\n",
      "\u001b[1;31mTypeError\u001b[0m: unhashable type: 'list'"
     ]
    }
   ],
   "source": [
    "a = {[1, 2]:\"hi\"}"
   ]
  },
  {
   "cell_type": "markdown",
   "metadata": {},
   "source": [
    "### 딕셔너리 함수 관련"
   ]
  },
  {
   "cell_type": "code",
   "execution_count": 34,
   "metadata": {},
   "outputs": [
    {
     "name": "stdout",
     "output_type": "stream",
     "text": [
      "dict_keys(['name', 'phone', 'birth'])\n",
      "<class 'dict_keys'>\n",
      "['name', 'phone', 'birth']\n"
     ]
    }
   ],
   "source": [
    "# key 리스트 만들기 - keys()\n",
    "a = {\"name\": \"pey\", \"phone\": \"010-1234-1234\", \"birth\": \"1110\"}\n",
    "print(a.keys())\n",
    "print(type(a.keys()))\n",
    "print(list(a.keys()))\n"
   ]
  },
  {
   "cell_type": "code",
   "execution_count": 36,
   "metadata": {},
   "outputs": [
    {
     "name": "stdout",
     "output_type": "stream",
     "text": [
      "name\n",
      "phone\n",
      "birth\n"
     ]
    }
   ],
   "source": [
    "for k in a.keys():\n",
    "    print(k)\n"
   ]
  },
  {
   "cell_type": "code",
   "execution_count": 38,
   "metadata": {},
   "outputs": [
    {
     "name": "stdout",
     "output_type": "stream",
     "text": [
      "dict_values(['pey', '010-1234-1234', '1110'])\n",
      "<class 'dict_values'>\n"
     ]
    }
   ],
   "source": [
    "# value 리스트 만들기 - values()\n",
    "a = {\"name\": \"pey\", \"phone\": \"010-1234-1234\", \"birth\": \"1110\"}\n",
    "print(a.values())\n",
    "print(type(a.values()))"
   ]
  },
  {
   "cell_type": "code",
   "execution_count": 39,
   "metadata": {},
   "outputs": [
    {
     "name": "stdout",
     "output_type": "stream",
     "text": [
      "pey\n",
      "010-1234-1234\n",
      "1110\n"
     ]
    }
   ],
   "source": [
    "for value in a.values():\n",
    "    print(value)"
   ]
  },
  {
   "cell_type": "code",
   "execution_count": 42,
   "metadata": {},
   "outputs": [
    {
     "name": "stdout",
     "output_type": "stream",
     "text": [
      "dict_items([('name', 'pey'), ('phone', '010-1234-1234'), ('birth', '1110')])\n",
      "<class 'dict_items'>\n",
      "[('name', 'pey'), ('phone', '010-1234-1234'), ('birth', '1110')]\n"
     ]
    }
   ],
   "source": [
    "# key, value쌍 얻기 - items\n",
    "a = {\"name\": \"pey\", \"phone\": \"010-1234-1234\", \"birth\": \"1110\"}\n",
    "print(a.items())\n",
    "print(type(a.items()))\n",
    "print(list(a.items()))\n"
   ]
  },
  {
   "cell_type": "code",
   "execution_count": 43,
   "metadata": {},
   "outputs": [
    {
     "name": "stdout",
     "output_type": "stream",
     "text": [
      "('name', 'pey')\n",
      "('phone', '010-1234-1234')\n",
      "('birth', '1110')\n"
     ]
    }
   ],
   "source": [
    "for item in a.items():\n",
    "    print(item)"
   ]
  },
  {
   "cell_type": "code",
   "execution_count": 44,
   "metadata": {},
   "outputs": [
    {
     "name": "stdout",
     "output_type": "stream",
     "text": [
      "{}\n"
     ]
    }
   ],
   "source": [
    "# key:value 쌍 모두 지우기 - clear()\n",
    "a = {\"name\": \"pey\", \"phone\": \"010-1234-1234\", \"birth\": \"1110\"}\n",
    "a.clear()\n",
    "\n",
    "print(a)"
   ]
  },
  {
   "cell_type": "code",
   "execution_count": 51,
   "metadata": {},
   "outputs": [
    {
     "name": "stdout",
     "output_type": "stream",
     "text": [
      "pey\n",
      "pey\n"
     ]
    }
   ],
   "source": [
    "# key로 value 얻기 - get()\n",
    "a = {\"name\": \"pey\", \"phone\": \"010-1234-1234\", \"birth\": \"1110\"}\n",
    "a.get(\"name\")\n",
    "print(a.get(\"name\"))\n",
    "print(a[\"name\"])"
   ]
  },
  {
   "cell_type": "code",
   "execution_count": 53,
   "metadata": {},
   "outputs": [
    {
     "ename": "SyntaxError",
     "evalue": "invalid syntax (3916959809.py, line 2)",
     "output_type": "error",
     "traceback": [
      "\u001b[1;36m  Cell \u001b[1;32mIn[53], line 2\u001b[1;36m\u001b[0m\n\u001b[1;33m    print(a.['nokey'])\u001b[0m\n\u001b[1;37m            ^\u001b[0m\n\u001b[1;31mSyntaxError\u001b[0m\u001b[1;31m:\u001b[0m invalid syntax\n"
     ]
    }
   ],
   "source": [
    "print(a.get('nokey'))\n",
    "print(a.['nokey'])"
   ]
  },
  {
   "cell_type": "code",
   "execution_count": 57,
   "metadata": {},
   "outputs": [
    {
     "name": "stdout",
     "output_type": "stream",
     "text": [
      "True\n",
      "False\n"
     ]
    }
   ],
   "source": [
    "# 해당 key가 딕셔너리 안에 있는지 조사하기 - in()\n",
    "a = {\"name\": \"pey\", \"phone\": \"010-1234-1234\", \"birth\": \"1110\"}\n",
    "print('name' in a)\n",
    "print('nokey' in a)"
   ]
  },
  {
   "cell_type": "code",
   "execution_count": null,
   "metadata": {},
   "outputs": [],
   "source": []
  }
 ],
 "metadata": {
  "kernelspec": {
   "display_name": "Python 3",
   "language": "python",
   "name": "python3"
  },
  "language_info": {
   "codemirror_mode": {
    "name": "ipython",
    "version": 3
   },
   "file_extension": ".py",
   "mimetype": "text/x-python",
   "name": "python",
   "nbconvert_exporter": "python",
   "pygments_lexer": "ipython3",
   "version": "3.12.4"
  }
 },
 "nbformat": 4,
 "nbformat_minor": 2
}
