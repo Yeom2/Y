{
 "cells": [
  {
   "cell_type": "markdown",
   "metadata": {},
   "source": [
    "1. 하나의 요소(2)를 가진 튜플을 작성하시오 "
   ]
  },
  {
   "cell_type": "code",
   "execution_count": 25,
   "metadata": {},
   "outputs": [
    {
     "ename": "SyntaxError",
     "evalue": "invalid syntax (636144866.py, line 2)",
     "output_type": "error",
     "traceback": [
      "\u001b[1;36m  Cell \u001b[1;32mIn[25], line 2\u001b[1;36m\u001b[0m\n\u001b[1;33m    print(1:)\u001b[0m\n\u001b[1;37m           ^\u001b[0m\n\u001b[1;31mSyntaxError\u001b[0m\u001b[1;31m:\u001b[0m invalid syntax\n"
     ]
    }
   ],
   "source": [
    "a = (2)\n",
    "print(1:)"
   ]
  },
  {
   "cell_type": "markdown",
   "metadata": {},
   "source": [
    "2. 인덱스 1부터 3까지의 요소를 슬라이싱 하세요\n",
    "* a = (\"a\", \"b\", \"c\", \"d\", \"e\", \"f\")"
   ]
  },
  {
   "cell_type": "code",
   "execution_count": 26,
   "metadata": {},
   "outputs": [
    {
     "name": "stdout",
     "output_type": "stream",
     "text": [
      "('a', 'b', 'c')\n"
     ]
    }
   ],
   "source": [
    "a = (\"a\", \"b\", \"c\", \"d\", \"e\", \"f\")\n",
    "\n",
    "print(a[0:3])\n"
   ]
  },
  {
   "cell_type": "markdown",
   "metadata": {},
   "source": [
    "3. a = (\"dog\", \"cat\", \"fish\"), b = [\"tiger\", \"horse\", \"lion\"] 각각의 변수에 \"bird\"를 추가해 보세요"
   ]
  },
  {
   "cell_type": "code",
   "execution_count": 32,
   "metadata": {},
   "outputs": [
    {
     "name": "stdout",
     "output_type": "stream",
     "text": [
      "['tiger', 'horse', 'lion', 'bird']\n"
     ]
    }
   ],
   "source": [
    "a = (\"dog\", \"cat\", \"fish\")\n",
    "b = [\"tiger\", \"horse\", \"lion\"]\n",
    "\n",
    "b.append(\"bird\")\n",
    "print(b)\n"
   ]
  },
  {
   "cell_type": "markdown",
   "metadata": {},
   "source": [
    "4. number = (10, 20, 40, 50, 30) 에서 가장 큰 수를 출력하세요 "
   ]
  },
  {
   "cell_type": "code",
   "execution_count": 31,
   "metadata": {},
   "outputs": [
    {
     "name": "stdout",
     "output_type": "stream",
     "text": [
      "50\n",
      "10\n"
     ]
    }
   ],
   "source": [
    "number = (10, 20, 40, 50, 30)\n",
    "print(max(number))\n",
    "print(min(number))"
   ]
  },
  {
   "cell_type": "markdown",
   "metadata": {},
   "source": [
    "5. a = \"감자\", b = \"고구마\" 일때 a에는 고구마, b에는 감자가 출력하도록 프로그램 하세요 "
   ]
  },
  {
   "cell_type": "code",
   "execution_count": 39,
   "metadata": {},
   "outputs": [
    {
     "ename": "SyntaxError",
     "evalue": "invalid syntax (329927458.py, line 10)",
     "output_type": "error",
     "traceback": [
      "\u001b[1;36m  Cell \u001b[1;32mIn[39], line 10\u001b[1;36m\u001b[0m\n\u001b[1;33m    print(\"a값 \": a)\u001b[0m\n\u001b[1;37m               ^\u001b[0m\n\u001b[1;31mSyntaxError\u001b[0m\u001b[1;31m:\u001b[0m invalid syntax\n"
     ]
    }
   ],
   "source": [
    "a = \"고구마\"\n",
    "b = \"감자\"\n",
    "\n",
    "# temp = a    # temp = \"감자\"\n",
    "# a = b       # a = \"고구마\"\n",
    "# b = temp    # b = \"감자\"\n",
    "\n",
    "a, b = b, a\n",
    "\n",
    "print(\"a값 \": a)\n",
    "print(\"b값 \": b)"
   ]
  },
  {
   "cell_type": "markdown",
   "metadata": {},
   "source": [
    "6. 4자리의 숫자를 입력받아 각각의 숫자를 더하는 프로그램을 만들어라 (입력갑 : 1234 -> 1 + 2 + 3 + 4 = 10)"
   ]
  },
  {
   "cell_type": "code",
   "execution_count": 45,
   "metadata": {},
   "outputs": [
    {
     "name": "stdout",
     "output_type": "stream",
     "text": [
      "1\n",
      "2.34\n",
      "12.34\n",
      "1 + 2.34 + 12.34 + 4 = 19.68\n"
     ]
    }
   ],
   "source": [
    "numInput = 1234\n",
    "\n",
    "a = numInput // 1000\n",
    "\n",
    "b = numInput % 1000 /100\n",
    "\n",
    "c = numInput / 100\n",
    "\n",
    "d = numInput % 10\n",
    "\n",
    "print(a)\n",
    "print(b)\n",
    "print(c)\n",
    "\n",
    "print(f\"{a} + {b} + {c} + {d} = {a + b + c + d}\")"
   ]
  },
  {
   "cell_type": "markdown",
   "metadata": {},
   "source": [
    "\n",
    "7. 주어진 리스트 ['red', 'green', 'blue']에서 'green'을 삭제하고 리스트를 출력하세요."
   ]
  },
  {
   "cell_type": "code",
   "execution_count": 10,
   "metadata": {},
   "outputs": [
    {
     "name": "stdout",
     "output_type": "stream",
     "text": [
      "['red', 'blue']\n"
     ]
    }
   ],
   "source": [
    "t1 = ['red', 'green', 'blue']\n",
    "del t1[1]\n",
    "print(t1)"
   ]
  },
  {
   "cell_type": "markdown",
   "metadata": {},
   "source": [
    "8. 리스트 ['apple', 'banana', 'cherry']에 'orange'를 추가하고, 결과를 출력하는 프로그램을 작성하세요."
   ]
  },
  {
   "cell_type": "code",
   "execution_count": 18,
   "metadata": {},
   "outputs": [
    {
     "name": "stdout",
     "output_type": "stream",
     "text": [
      "['apple', 'banana', 'orange']\n"
     ]
    }
   ],
   "source": [
    "t1 = ['apple', 'banana', 'cherry']\n",
    "t1[2] = \"orange\"\n",
    "print(t1)"
   ]
  }
 ],
 "metadata": {
  "kernelspec": {
   "display_name": "Python 3",
   "language": "python",
   "name": "python3"
  },
  "language_info": {
   "codemirror_mode": {
    "name": "ipython",
    "version": 3
   },
   "file_extension": ".py",
   "mimetype": "text/x-python",
   "name": "python",
   "nbconvert_exporter": "python",
   "pygments_lexer": "ipython3",
   "version": "3.12.4"
  }
 },
 "nbformat": 4,
 "nbformat_minor": 2
}
