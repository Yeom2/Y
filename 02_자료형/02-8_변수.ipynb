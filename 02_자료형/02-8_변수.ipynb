{
 "cells": [
  {
   "cell_type": "code",
   "execution_count": 10,
   "metadata": {},
   "outputs": [
    {
     "name": "stdout",
     "output_type": "stream",
     "text": [
      "2610050171520\n",
      "2610050171520\n"
     ]
    }
   ],
   "source": [
    "a = [1, 2, 3]\n",
    "b = a\n",
    "print(id(a))\n",
    "print(id(b))"
   ]
  },
  {
   "cell_type": "code",
   "execution_count": 2,
   "metadata": {},
   "outputs": [
    {
     "name": "stdout",
     "output_type": "stream",
     "text": [
      "[1, 4, 3]\n",
      "[1, 4, 3]\n"
     ]
    }
   ],
   "source": [
    "a = [1, 2, 3]\n",
    "b = a\n",
    "\n",
    "a[1] = 4\n",
    "\n",
    "print(a)\n",
    "print(b)\n"
   ]
  },
  {
   "cell_type": "code",
   "execution_count": 7,
   "metadata": {},
   "outputs": [
    {
     "name": "stdout",
     "output_type": "stream",
     "text": [
      "[1, 2, 3]\n",
      "[1, 2, 3]\n",
      "2610049985024\n",
      "2610049997056\n",
      "[1, 4, 3]\n",
      "[1, 2, 3]\n"
     ]
    }
   ],
   "source": [
    "a = [1, 2, 3]\n",
    "b = a[:]\n",
    "\n",
    "print(a)\n",
    "print(b)\n",
    "print(id(a))\n",
    "print(id(b))\n",
    "\n",
    "a[1] = 4\n",
    "\n",
    "print(a)\n",
    "print(b)"
   ]
  },
  {
   "cell_type": "code",
   "execution_count": 9,
   "metadata": {},
   "outputs": [
    {
     "name": "stdout",
     "output_type": "stream",
     "text": [
      "2610049838336\n",
      "2610050082112\n"
     ]
    }
   ],
   "source": [
    "from copy import copy\n",
    "\n",
    "a = [1, 2, 3]\n",
    "# b = a[:]\n",
    "b = copy(a)\n",
    "\n",
    "print(id(a))\n",
    "print(id(b))"
   ]
  },
  {
   "cell_type": "code",
   "execution_count": 12,
   "metadata": {},
   "outputs": [
    {
     "name": "stdout",
     "output_type": "stream",
     "text": [
      "python\n",
      "life\n"
     ]
    }
   ],
   "source": [
    "# 변수를 만드는 여러가지 방법\n",
    "\n",
    "c = ('python', 'life')\n",
    "\n",
    "a, b = c\n",
    "print(a)\n",
    "print(b)"
   ]
  },
  {
   "cell_type": "code",
   "execution_count": 13,
   "metadata": {},
   "outputs": [
    {
     "name": "stdout",
     "output_type": "stream",
     "text": [
      "('python', 'life')\n"
     ]
    }
   ],
   "source": [
    "c = ('python', 'life')\n",
    "\n",
    "d = c\n",
    "print(d)"
   ]
  },
  {
   "cell_type": "code",
   "execution_count": 14,
   "metadata": {},
   "outputs": [
    {
     "name": "stdout",
     "output_type": "stream",
     "text": [
      "python\n",
      "life\n"
     ]
    }
   ],
   "source": [
    "(a, b) = \"python\", \"life\"\n",
    "\n",
    "print(a)\n",
    "print(b)"
   ]
  },
  {
   "cell_type": "code",
   "execution_count": 15,
   "metadata": {},
   "outputs": [
    {
     "name": "stdout",
     "output_type": "stream",
     "text": [
      "python\n",
      "life\n"
     ]
    }
   ],
   "source": [
    "[a, b] = ['python', 'life']\n",
    "print(a)\n",
    "print(b)"
   ]
  },
  {
   "cell_type": "code",
   "execution_count": 17,
   "metadata": {},
   "outputs": [
    {
     "name": "stdout",
     "output_type": "stream",
     "text": [
      "python\n",
      "python\n",
      "2609959713936\n",
      "2609959713936\n"
     ]
    }
   ],
   "source": [
    "a = b = \"python\"\n",
    "\n",
    "print(a)\n",
    "print(b)\n",
    "print(id(a))\n",
    "print(id(b))"
   ]
  },
  {
   "cell_type": "code",
   "execution_count": 19,
   "metadata": {},
   "outputs": [
    {
     "name": "stdout",
     "output_type": "stream",
     "text": [
      "5\n",
      "3\n"
     ]
    }
   ],
   "source": [
    "a = 3\n",
    "b = 5\n",
    "\n",
    "a, b = b, a\n",
    "\n",
    "print(a)\n",
    "print(b)"
   ]
  },
  {
   "cell_type": "code",
   "execution_count": 36,
   "metadata": {},
   "outputs": [
    {
     "name": "stdout",
     "output_type": "stream",
     "text": [
      "70.0\n"
     ]
    }
   ],
   "source": [
    "# 평균점수 구하기\n",
    "\n",
    "ko = 80\n",
    "en = 75\n",
    "ma = 55\n",
    "\n",
    "ave = (ko + en + ma) / 3\n",
    "print(ave)"
   ]
  },
  {
   "cell_type": "code",
   "execution_count": 37,
   "metadata": {},
   "outputs": [
    {
     "name": "stdout",
     "output_type": "stream",
     "text": [
      "False\n"
     ]
    }
   ],
   "source": [
    "# 홀수, 짝수 판별하기\n",
    "\n",
    "num = 13\n",
    "\n",
    "result = num % 2 == 0\n",
    "\n",
    "print(result)"
   ]
  },
  {
   "cell_type": "code",
   "execution_count": 39,
   "metadata": {},
   "outputs": [
    {
     "name": "stdout",
     "output_type": "stream",
     "text": [
      "881120\n",
      "1068234\n"
     ]
    }
   ],
   "source": [
    "# 주민번호 나누기\n",
    "\n",
    "pin = \"881120-1068234\"\n",
    "\n",
    "yyyymmdd = pin[0:6]\n",
    "num = pin[7:]\n",
    "\n",
    "print(yyyymmdd)\n",
    "print(num)\n"
   ]
  },
  {
   "cell_type": "code",
   "execution_count": 44,
   "metadata": {},
   "outputs": [
    {
     "name": "stdout",
     "output_type": "stream",
     "text": [
      "1\n"
     ]
    }
   ],
   "source": [
    "# 주민등록번호 인덱싱\n",
    "\n",
    "pin = \"881120-1068234\"\n",
    "\n",
    "print(pin[7])"
   ]
  },
  {
   "cell_type": "code",
   "execution_count": 45,
   "metadata": {},
   "outputs": [
    {
     "name": "stdout",
     "output_type": "stream",
     "text": [
      "a#b#c#d\n"
     ]
    }
   ],
   "source": [
    "# 문자열 바꾸기\n",
    "\n",
    "a = \"a:b:c:d\"\n",
    "b = a.replace(\":\", \"#\")\n",
    "print(b)"
   ]
  },
  {
   "cell_type": "code",
   "execution_count": 47,
   "metadata": {},
   "outputs": [
    {
     "name": "stdout",
     "output_type": "stream",
     "text": [
      "[5, 4, 3, 2, 1]\n"
     ]
    }
   ],
   "source": [
    "# 리스트 역순 정렬하기\n",
    "\n",
    "a = [1, 3, 5, 4, 2]\n",
    "a.sort()\n",
    "a.reverse()\n",
    "print(a)"
   ]
  },
  {
   "cell_type": "code",
   "execution_count": 49,
   "metadata": {},
   "outputs": [
    {
     "name": "stdout",
     "output_type": "stream",
     "text": [
      "Life , is , too , short\n"
     ]
    }
   ],
   "source": [
    "# 리스트를 문자열로 만들기\n",
    "\n",
    "a = [\"Life\", \"is\", \"too\", \"short\"]\n",
    "result = \" , \".join(a)\n",
    "print(result)"
   ]
  },
  {
   "cell_type": "code",
   "execution_count": 50,
   "metadata": {},
   "outputs": [
    {
     "name": "stdout",
     "output_type": "stream",
     "text": [
      "(1, 2, 3, 4)\n"
     ]
    }
   ],
   "source": [
    "# 튜플 더하기\n",
    "\n",
    "a = (1, 2, 3)\n",
    "a = a + (4, )\n",
    "print(a)"
   ]
  },
  {
   "cell_type": "code",
   "execution_count": 56,
   "metadata": {},
   "outputs": [
    {
     "name": "stdout",
     "output_type": "stream",
     "text": [
      "{'name': 'python', ('a',): 'python', 250: 'python'}\n"
     ]
    }
   ],
   "source": [
    "# 딕셔너리의 키\n",
    "\n",
    "# a = {}\n",
    "a = dict()\n",
    "\n",
    "a[\"name\"] = \"python\"\n",
    "a[(\"a\",)] = \"python\"\n",
    "# a[[(1)]] = \"python\"\n",
    "a[250] = \"python\"\n",
    "print(a)\n"
   ]
  },
  {
   "cell_type": "code",
   "execution_count": 57,
   "metadata": {},
   "outputs": [
    {
     "name": "stdout",
     "output_type": "stream",
     "text": [
      "{'A': 90, 'C': 70}\n",
      "80\n"
     ]
    }
   ],
   "source": [
    "# 딕셔너리 값 추출하기\n",
    "\n",
    "a = {\"A\":90, \"B\":80, \"C\":70}\n",
    "result = a.pop(\"B\")\n",
    "print(a)\n",
    "print(result)\n"
   ]
  },
  {
   "cell_type": "code",
   "execution_count": 60,
   "metadata": {},
   "outputs": [
    {
     "name": "stdout",
     "output_type": "stream",
     "text": [
      "[1, 2, 3, 4, 5]\n"
     ]
    }
   ],
   "source": [
    "# 리스트에서 중복 제거하기\n",
    "\n",
    "a = [1, 1, 1, 2, 2, 3, 3, 3, 4, 4, 5]\n",
    "aSet = set(a)\n",
    "b = list(aSet)\n",
    "print(b)"
   ]
  },
  {
   "cell_type": "code",
   "execution_count": 61,
   "metadata": {},
   "outputs": [
    {
     "name": "stdout",
     "output_type": "stream",
     "text": [
      "[1, 4, 3]\n"
     ]
    }
   ],
   "source": [
    "# 파이썬 함수\n",
    "\n",
    "a = b = [1, 2, 3]\n",
    "a[1] = 4\n",
    "print(b)\n"
   ]
  },
  {
   "cell_type": "code",
   "execution_count": null,
   "metadata": {},
   "outputs": [],
   "source": []
  }
 ],
 "metadata": {
  "kernelspec": {
   "display_name": "Python 3",
   "language": "python",
   "name": "python3"
  },
  "language_info": {
   "codemirror_mode": {
    "name": "ipython",
    "version": 3
   },
   "file_extension": ".py",
   "mimetype": "text/x-python",
   "name": "python",
   "nbconvert_exporter": "python",
   "pygments_lexer": "ipython3",
   "version": "3.12.4"
  }
 },
 "nbformat": 4,
 "nbformat_minor": 2
}
