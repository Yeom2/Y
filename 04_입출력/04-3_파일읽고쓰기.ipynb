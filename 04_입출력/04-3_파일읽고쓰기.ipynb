{
 "cells": [
  {
   "cell_type": "code",
   "execution_count": 19,
   "metadata": {},
   "outputs": [],
   "source": [
    "# 파일 생성하기\n",
    "\n",
    "f = open(\"./새파일.txt\", \"w\")\n",
    "f.close()"
   ]
  },
  {
   "cell_type": "code",
   "execution_count": 26,
   "metadata": {},
   "outputs": [],
   "source": [
    "f = open(\"./새파일.txt\", \"w\")\n",
    "\n",
    "for i in range(1, 11):\n",
    "    data = f\"{i}번째 줄입니다.\\n\"\n",
    "    f.write(data)\n",
    "\n",
    "f.close()"
   ]
  },
  {
   "cell_type": "markdown",
   "metadata": {},
   "source": [
    "### 파일을 읽는 여러가지 방법"
   ]
  },
  {
   "cell_type": "code",
   "execution_count": 28,
   "metadata": {},
   "outputs": [],
   "source": [
    "# readline()을 이용해 모든 파일 읽기\n",
    "\n",
    "#f = open(\"./새파일.txt\", \"r\")\n",
    "\n",
    "#while True:\n",
    "\n",
    " #   line = f.readline()\n",
    "  #  if not line: break\n",
    "   # print(line)"
   ]
  },
  {
   "cell_type": "code",
   "execution_count": 32,
   "metadata": {},
   "outputs": [
    {
     "name": "stdout",
     "output_type": "stream",
     "text": [
      "['1??° ??????.\\n', '2??° ??????.\\n', '3??° ??????.\\n', '4??° ??????.\\n', '5??° ??????.\\n', '6??° ??????.\\n', '7??° ??????.\\n', '8??° ??????.\\n', '9??° ??????.\\n', '10??° ??????.\\n']\n",
      "['1??° ??????.\\n', '2??° ??????.\\n', '3??° ??????.\\n', '4??° ??????.\\n', '5??° ??????.\\n', '6??° ??????.\\n', '7??° ??????.\\n', '8??° ??????.\\n', '9??° ??????.\\n', '10??° ??????.\\n']\n",
      "['1??° ??????.\\n', '2??° ??????.\\n', '3??° ??????.\\n', '4??° ??????.\\n', '5??° ??????.\\n', '6??° ??????.\\n', '7??° ??????.\\n', '8??° ??????.\\n', '9??° ??????.\\n', '10??° ??????.\\n']\n",
      "['1??° ??????.\\n', '2??° ??????.\\n', '3??° ??????.\\n', '4??° ??????.\\n', '5??° ??????.\\n', '6??° ??????.\\n', '7??° ??????.\\n', '8??° ??????.\\n', '9??° ??????.\\n', '10??° ??????.\\n']\n",
      "['1??° ??????.\\n', '2??° ??????.\\n', '3??° ??????.\\n', '4??° ??????.\\n', '5??° ??????.\\n', '6??° ??????.\\n', '7??° ??????.\\n', '8??° ??????.\\n', '9??° ??????.\\n', '10??° ??????.\\n']\n",
      "['1??° ??????.\\n', '2??° ??????.\\n', '3??° ??????.\\n', '4??° ??????.\\n', '5??° ??????.\\n', '6??° ??????.\\n', '7??° ??????.\\n', '8??° ??????.\\n', '9??° ??????.\\n', '10??° ??????.\\n']\n",
      "['1??° ??????.\\n', '2??° ??????.\\n', '3??° ??????.\\n', '4??° ??????.\\n', '5??° ??????.\\n', '6??° ??????.\\n', '7??° ??????.\\n', '8??° ??????.\\n', '9??° ??????.\\n', '10??° ??????.\\n']\n",
      "['1??° ??????.\\n', '2??° ??????.\\n', '3??° ??????.\\n', '4??° ??????.\\n', '5??° ??????.\\n', '6??° ??????.\\n', '7??° ??????.\\n', '8??° ??????.\\n', '9??° ??????.\\n', '10??° ??????.\\n']\n",
      "['1??° ??????.\\n', '2??° ??????.\\n', '3??° ??????.\\n', '4??° ??????.\\n', '5??° ??????.\\n', '6??° ??????.\\n', '7??° ??????.\\n', '8??° ??????.\\n', '9??° ??????.\\n', '10??° ??????.\\n']\n",
      "['1??° ??????.\\n', '2??° ??????.\\n', '3??° ??????.\\n', '4??° ??????.\\n', '5??° ??????.\\n', '6??° ??????.\\n', '7??° ??????.\\n', '8??° ??????.\\n', '9??° ??????.\\n', '10??° ??????.\\n']\n"
     ]
    }
   ],
   "source": [
    "# readlines()함수 사용하기\n",
    "\n",
    "file = open(\"./새파일.txt\", \"r\")\n",
    "\n",
    "lines = file.readlines()\n",
    "\n",
    "for line in lines:\n",
    "    print(lines)\n",
    "\n",
    "file.close()"
   ]
  },
  {
   "cell_type": "code",
   "execution_count": 5,
   "metadata": {},
   "outputs": [
    {
     "name": "stdout",
     "output_type": "stream",
     "text": [
      "21번째 줄입니다.\n",
      "22번째 줄입니다.\n",
      "23번째 줄입니다.\n",
      "24번째 줄입니다.\n",
      "25번째 줄입니다.\n",
      "26번째 줄입니다.\n",
      "27번째 줄입니다.\n",
      "28번째 줄입니다.\n",
      "29번째 줄입니다.\n",
      "30번째 줄입니다.\n",
      "21번째 줄입니다.\n",
      "22번째 줄입니다.\n",
      "23번째 줄입니다.\n",
      "24번째 줄입니다.\n",
      "25번째 줄입니다.\n",
      "26번째 줄입니다.\n",
      "27번째 줄입니다.\n",
      "28번째 줄입니다.\n",
      "29번째 줄입니다.\n",
      "30번째 줄입니다.\n"
     ]
    }
   ],
   "source": [
    "# 줄바꿈 문자 제거하기\n",
    "\n",
    "f = open(\"C:/Users/as4761285 001/Desktop/새 폴더 (2)/python/04_입출력\\새파일.txt\",\"r\")\n",
    "         \n",
    "lines = f.readlines()\n",
    "\n",
    "for line in lines:\n",
    "    line = line.strip()\n",
    "    print(line)\n",
    "\n",
    "    \n",
    "f.close()\n"
   ]
  },
  {
   "cell_type": "code",
   "execution_count": 20,
   "metadata": {},
   "outputs": [
    {
     "name": "stdout",
     "output_type": "stream",
     "text": [
      "[\n",
      "1번째 줄입니다.\n",
      "]\n",
      "[1번째 줄입니다.]\n"
     ]
    }
   ],
   "source": [
    "a = \"\\n1번째 줄입니다.\\n\"\n",
    "str = \"[\" + a + \"]\"\n",
    "print(str)\n",
    "\n",
    "str = \"[\" + a.strip() + \"]\"\n",
    "print(str)"
   ]
  },
  {
   "cell_type": "code",
   "execution_count": 4,
   "metadata": {},
   "outputs": [
    {
     "name": "stdout",
     "output_type": "stream",
     "text": [
      "21번째 줄입니다.\n",
      "22번째 줄입니다.\n",
      "23번째 줄입니다.\n",
      "24번째 줄입니다.\n",
      "25번째 줄입니다.\n",
      "26번째 줄입니다.\n",
      "27번째 줄입니다.\n",
      "28번째 줄입니다.\n",
      "29번째 줄입니다.\n",
      "30번째 줄입니다.\n",
      "21번째 줄입니다.\n",
      "22번째 줄입니다.\n",
      "23번째 줄입니다.\n",
      "24번째 줄입니다.\n",
      "25번째 줄입니다.\n",
      "26번째 줄입니다.\n",
      "27번째 줄입니다.\n",
      "28번째 줄입니다.\n",
      "29번째 줄입니다.\n",
      "30번째 줄입니다.\n",
      "\n"
     ]
    }
   ],
   "source": [
    "# read()함수 사용\n",
    "\n",
    "f = open(\"./새파일.txt\", \"r\")\n",
    "\n",
    "data = f.read()\n",
    "\n",
    "print(data)\n",
    "\n",
    "f.close()"
   ]
  },
  {
   "cell_type": "code",
   "execution_count": 3,
   "metadata": {},
   "outputs": [
    {
     "name": "stdout",
     "output_type": "stream",
     "text": [
      "21번째 줄입니다.\n",
      "\n",
      "22번째 줄입니다.\n",
      "\n",
      "23번째 줄입니다.\n",
      "\n",
      "24번째 줄입니다.\n",
      "\n",
      "25번째 줄입니다.\n",
      "\n",
      "26번째 줄입니다.\n",
      "\n",
      "27번째 줄입니다.\n",
      "\n",
      "28번째 줄입니다.\n",
      "\n",
      "29번째 줄입니다.\n",
      "\n",
      "30번째 줄입니다.\n",
      "\n",
      "21번째 줄입니다.\n",
      "\n",
      "22번째 줄입니다.\n",
      "\n",
      "23번째 줄입니다.\n",
      "\n",
      "24번째 줄입니다.\n",
      "\n",
      "25번째 줄입니다.\n",
      "\n",
      "26번째 줄입니다.\n",
      "\n",
      "27번째 줄입니다.\n",
      "\n",
      "28번째 줄입니다.\n",
      "\n",
      "29번째 줄입니다.\n",
      "\n",
      "30번째 줄입니다.\n",
      "\n"
     ]
    }
   ],
   "source": [
    "# 파일객체를 for문과 함께 사용\n",
    "\n",
    "f = open(\"./새파일.txt\", \"r\")\n",
    "for line in f:\n",
    "    print(line)\n",
    "f.close() "
   ]
  },
  {
   "cell_type": "code",
   "execution_count": 31,
   "metadata": {},
   "outputs": [],
   "source": [
    "# 파일에 새로운 내용 추가하기\n",
    "\n",
    "f = open(\"./새파일.txt\", \"w\")\n",
    "\n",
    "for i in range(11, 21):\n",
    "    data = f\"{i}번째 줄입니다.\\n\"\n",
    "    f.write(data)\n",
    "\n",
    "f.close()"
   ]
  },
  {
   "cell_type": "code",
   "execution_count": 39,
   "metadata": {},
   "outputs": [],
   "source": [
    "f = open(\"./새파일.txt\", \"a\")\n",
    "\n",
    "for i in range(21, 31):\n",
    "    data = f\"{i}번째 줄입니다.\\n\"\n",
    "    f.write(data)\n",
    "\n",
    "f.close()"
   ]
  },
  {
   "cell_type": "code",
   "execution_count": 1,
   "metadata": {},
   "outputs": [],
   "source": [
    "# with 문과 함께 사용하기\n",
    "\n",
    "f = open(\"./foo.txt\", \"w\")\n",
    "f.write(\"Life is too short, you need to learn python\")\n",
    "f.close()"
   ]
  },
  {
   "cell_type": "code",
   "execution_count": 43,
   "metadata": {},
   "outputs": [
    {
     "name": "stderr",
     "output_type": "stream",
     "text": [
      "<>:2: SyntaxWarning: invalid escape sequence '\\e'\n",
      "<>:2: SyntaxWarning: invalid escape sequence '\\e'\n",
      "C:\\Users\\as4761285 001\\AppData\\Local\\Temp\\ipykernel_4436\\4184271165.py:2: SyntaxWarning: invalid escape sequence '\\e'\n",
      "  f.write(\"Life is too short, you ni\\eed to learn python2\")\n"
     ]
    }
   ],
   "source": [
    "with open(\"./foo.txt\", \"w\") as f:\n",
    "    f.write(\"Life is too short, you ni\\eed to learn python2\")"
   ]
  },
  {
   "cell_type": "code",
   "execution_count": null,
   "metadata": {},
   "outputs": [],
   "source": []
  }
 ],
 "metadata": {
  "kernelspec": {
   "display_name": "Python 3",
   "language": "python",
   "name": "python3"
  },
  "language_info": {
   "codemirror_mode": {
    "name": "ipython",
    "version": 3
   },
   "file_extension": ".py",
   "mimetype": "text/x-python",
   "name": "python",
   "nbconvert_exporter": "python",
   "pygments_lexer": "ipython3",
   "version": "3.12.4"
  }
 },
 "nbformat": 4,
 "nbformat_minor": 2
}
