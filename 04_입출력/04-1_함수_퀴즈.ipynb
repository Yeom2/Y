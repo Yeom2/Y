{
 "cells": [
  {
   "cell_type": "markdown",
   "metadata": {},
   "source": [
    "퀴즈 1: 덧셈 함수 만들기\n",
    "문제: 두 개의 숫자를 입력받아 그 합을 반환하는 함수를 작성하세요.\n",
    "* 함수이름은 add_number"
   ]
  },
  {
   "cell_type": "code",
   "execution_count": 1,
   "metadata": {},
   "outputs": [
    {
     "name": "stdout",
     "output_type": "stream",
     "text": [
      "30\n"
     ]
    }
   ],
   "source": [
    "def add_number(a, b):\n",
    "    return a + b\n",
    "\n",
    "result = add_number(10, 20)\n",
    "print(result)\n"
   ]
  },
  {
   "cell_type": "markdown",
   "metadata": {},
   "source": [
    "퀴즈 2: 짝수 확인 함수 만들기\n",
    "문제: 주어진 숫자가 짝수인지 홀수인지 판별하는 함수를 작성하세요.\n",
    "\n"
   ]
  },
  {
   "cell_type": "code",
   "execution_count": 12,
   "metadata": {},
   "outputs": [
    {
     "ename": "SyntaxError",
     "evalue": "invalid syntax (1431967295.py, line 2)",
     "output_type": "error",
     "traceback": [
      "\u001b[1;36m  Cell \u001b[1;32mIn[12], line 2\u001b[1;36m\u001b[0m\n\u001b[1;33m    if num % == 0:\u001b[0m\n\u001b[1;37m             ^\u001b[0m\n\u001b[1;31mSyntaxError\u001b[0m\u001b[1;31m:\u001b[0m invalid syntax\n"
     ]
    }
   ],
   "source": [
    "def is_ever(num):\n",
    "    if num % == 0:\n",
    "        return \"짝수\"\n",
    "    else:\n",
    "        return \"홀수\"\n",
    "    \n",
    "    result = is_even(10)\n",
    "    print(result)\n",
    "\n",
    "    result = is_even(11)\n",
    "    print(result)"
   ]
  },
  {
   "cell_type": "markdown",
   "metadata": {},
   "source": [
    "퀴즈 3: 리스트에서 최대값 찾기\n",
    "문제: 주어진 리스트에서 최대값을 찾는 함수를 작성하세요.\n",
    "* max() 함수를 사용하지 않고 직접 구현해보세요.\n"
   ]
  },
  {
   "cell_type": "code",
   "execution_count": 20,
   "metadata": {},
   "outputs": [
    {
     "name": "stdout",
     "output_type": "stream",
     "text": [
      "70\n"
     ]
    }
   ],
   "source": [
    "def find_max(list_num):\n",
    "    max_num = 0\n",
    "\n",
    "    for num in list_num:\n",
    "        if num > max_num:\n",
    "            max_num = num\n",
    "\n",
    "    return max_num\n",
    "\n",
    "\n",
    "\n",
    "a = [10, 9, 20, 30, 70, 5]\n",
    "result = find_max(a)\n",
    "print(result)\n",
    "\n"
   ]
  },
  {
   "cell_type": "markdown",
   "metadata": {},
   "source": [
    "퀴즈 4: 구구단 출력하기\n",
    "문제: 주어진 숫자에 대해 구구단을 출력하는 함수를 작성하세요."
   ]
  },
  {
   "cell_type": "code",
   "execution_count": 24,
   "metadata": {},
   "outputs": [
    {
     "name": "stdout",
     "output_type": "stream",
     "text": [
      "None\n"
     ]
    }
   ],
   "source": [
    "def gugudan(dan):\n",
    "    \n",
    "    result = []\n",
    "    for num in range(1, 10):\n",
    "        sik = f\"{dan} * {num} = {dan * num}\"\n",
    "        result.append(sik)\n",
    "\n",
    "    # return = gugudan(5)\n",
    "\n",
    "result = gugudan(5)\n",
    "print(result)"
   ]
  },
  {
   "cell_type": "markdown",
   "metadata": {},
   "source": [
    "퀴즈 5. 날짜 2024-08-21 10:00 를 24년 8월 21일로 바꾸는 함수를 만들어 주세요 "
   ]
  },
  {
   "cell_type": "code",
   "execution_count": 33,
   "metadata": {},
   "outputs": [
    {
     "name": "stdout",
     "output_type": "stream",
     "text": [
      "24년 08월 21일\n"
     ]
    }
   ],
   "source": [
    "def date_format(date_value):\n",
    "    temp = date_value.split(\"-\")\n",
    "    year = temp[0][2:4]\n",
    "    month = temp[1]\n",
    "    day = temp[2][0:2]\n",
    "    return f\"{year}년 {month}월 {day}일\"\n",
    "\n",
    "\n",
    "\n",
    "date_value = \"2024-08-21 10:00\"\n",
    "result = date_format(date_value)\n",
    "print(result)\n"
   ]
  },
  {
   "cell_type": "markdown",
   "metadata": {},
   "source": [
    "퀴즈 6: 특정 단어 세기\n",
    "문제: 주어진 문장에서 특정 단어가 몇 번 나타나는지 세는 함수를 작성하세요.\n",
    "* 함수이름은 count_word\n",
    "* 함수는 두 개의 매개변수 sentence와 word를 받아야 합니다.\n",
    "\n"
   ]
  },
  {
   "cell_type": "code",
   "execution_count": null,
   "metadata": {},
   "outputs": [],
   "source": []
  }
 ],
 "metadata": {
  "kernelspec": {
   "display_name": "Python 3",
   "language": "python",
   "name": "python3"
  },
  "language_info": {
   "codemirror_mode": {
    "name": "ipython",
    "version": 3
   },
   "file_extension": ".py",
   "mimetype": "text/x-python",
   "name": "python",
   "nbconvert_exporter": "python",
   "pygments_lexer": "ipython3",
   "version": "3.12.4"
  }
 },
 "nbformat": 4,
 "nbformat_minor": 2
}
