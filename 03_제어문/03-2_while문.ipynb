{
 "cells": [
  {
   "cell_type": "code",
   "execution_count": 3,
   "metadata": {},
   "outputs": [
    {
     "name": "stdout",
     "output_type": "stream",
     "text": [
      "나무를 1번 찍었습니다.\n",
      "나무를 2번 찍었습니다.\n",
      "나무를 3번 찍었습니다.\n",
      "나무를 4번 찍었습니다.\n",
      "나무를 5번 찍었습니다.\n",
      "나무를 6번 찍었습니다.\n",
      "나무를 7번 찍었습니다.\n",
      "나무를 8번 찍었습니다.\n",
      "나무를 9번 찍었습니다.\n",
      "나무를 10번 찍었습니다.\n",
      "나무 넘어갑니다.\n",
      "종료\n"
     ]
    }
   ],
   "source": [
    "# while문의 기본 구조\n",
    "\n",
    "# while 조건문:\n",
    "#     수행할 문장1\n",
    "#     수행할 문장2\n",
    "#     수행할 문장3\n",
    "\n",
    "treeHit = 0\n",
    "\n",
    "while treeHit < 10:\n",
    "    #treeHit += 1\n",
    "    treeHit = treeHit + 1\n",
    "    print(f\"나무를 {treeHit}번 찍었습니다.\")\n",
    "    if treeHit == 10:\n",
    "        print(\"나무 넘어갑니다.\")\n",
    "\n",
    "print(\"종료\")"
   ]
  },
  {
   "cell_type": "code",
   "execution_count": 2,
   "metadata": {},
   "outputs": [
    {
     "name": "stdout",
     "output_type": "stream",
     "text": [
      "\n",
      "1. Add\n",
      "2. Del\n",
      "3. List\n",
      "4. Quit\n",
      "\n",
      "Enter number:\n",
      "\n",
      "\n",
      "1. Add\n",
      "2. Del\n",
      "3. List\n",
      "4. Quit\n",
      "\n",
      "Enter number:\n",
      "\n",
      "\n",
      "1. Add\n",
      "2. Del\n",
      "3. List\n",
      "4. Quit\n",
      "\n",
      "Enter number:\n",
      "\n",
      "\n",
      "1. Add\n",
      "2. Del\n",
      "3. List\n",
      "4. Quit\n",
      "\n",
      "Enter number:\n",
      "\n"
     ]
    }
   ],
   "source": [
    "# while문 만들기\n",
    "\n",
    "prompt = \"\"\"\n",
    "1. Add\n",
    "2. Del\n",
    "3. List\n",
    "4. Quit\n",
    "\n",
    "Enter number:\n",
    "\"\"\"\n",
    "\n",
    "number = 0\n",
    "while number !=4:\n",
    "    print(prompt)\n",
    "    number = int(input())"
   ]
  },
  {
   "cell_type": "code",
   "execution_count": 6,
   "metadata": {},
   "outputs": [
    {
     "name": "stdout",
     "output_type": "stream",
     "text": [
      "거스름돈 200을 주고, 커피를 줍니다.\n",
      "거스름돈 300을 주고, 커피를 줍니다.\n",
      "돈을 다시 돌려주고, 커피를 주지 않습니다. \n",
      "남은 커피의 양은 2개 입니다.\n",
      "거스름돈 100을 주고, 커피를 줍니다.\n",
      "돈을 다시 돌려주고, 커피를 주지 않습니다. \n",
      "남은 커피의 양은 1개 입니다.\n",
      "돈을 다시 돌려주고, 커피를 주지 않습니다. \n",
      "남은 커피의 양은 1개 입니다.\n",
      "거스름돈 200을 주고, 커피를 줍니다.\n",
      "커피가 다 떨어졌습니다. 판매를 중지합니다.\n"
     ]
    }
   ],
   "source": [
    "coffee = 4\n",
    "\n",
    "while True:\n",
    "    money = int(input(\"돈을 넣어 주세요: \"))\n",
    "\n",
    "    if money == 300:\n",
    "        print(\"커피를 줍니다.\")\n",
    "        coffee = coffee - 1\n",
    "        # coffee -= 1\n",
    "    elif money > 300:\n",
    "        print(f\"거스름돈 {money - 300}을 주고, 커피를 줍니다.\")\n",
    "        coffee = coffee - 1\n",
    "        # coffee -= 1\n",
    "    else:\n",
    "        print(\"돈을 다시 돌려주고, 커피를 주지 않습니다. \")\n",
    "        print(f\"남은 커피의 양은 {coffee}개 입니다.\")\n",
    "\n",
    "    if coffee == 0:\n",
    "        print(\"커피가 다 떨어졌습니다. 판매를 중지합니다.\")\n",
    "        break\n"
   ]
  },
  {
   "cell_type": "code",
   "execution_count": 10,
   "metadata": {},
   "outputs": [
    {
     "ename": "NameError",
     "evalue": "name 'conttine' is not defined",
     "output_type": "error",
     "traceback": [
      "\u001b[1;31m---------------------------------------------------------------------------\u001b[0m",
      "\u001b[1;31mNameError\u001b[0m                                 Traceback (most recent call last)",
      "Cell \u001b[1;32mIn[10], line 9\u001b[0m\n\u001b[0;32m      5\u001b[0m \u001b[38;5;28;01mwhile\u001b[39;00m a \u001b[38;5;241m<\u001b[39m \u001b[38;5;241m10\u001b[39m:\n\u001b[0;32m      6\u001b[0m     \u001b[38;5;66;03m# a = a + 1\u001b[39;00m\n\u001b[0;32m      7\u001b[0m     \u001b[38;5;66;03m#if a % 2 == 0\u001b[39;00m\n\u001b[0;32m      8\u001b[0m     \u001b[38;5;28;01mif\u001b[39;00m a \u001b[38;5;241m%\u001b[39m\u001b[38;5;241m2\u001b[39m \u001b[38;5;241m==\u001b[39m \u001b[38;5;241m0\u001b[39m:\n\u001b[1;32m----> 9\u001b[0m         \u001b[43mconttine\u001b[49m\n\u001b[0;32m     11\u001b[0m \u001b[38;5;28mprint\u001b[39m(a)\n",
      "\u001b[1;31mNameError\u001b[0m: name 'conttine' is not defined"
     ]
    }
   ],
   "source": [
    "# whide 문의 맨 처음으로 돌아가기\n",
    "\n",
    "a = 0\n",
    "\n",
    "while a < 10:\n",
    "    # a = a + 1\n",
    "    #if a % 2 == 0\n",
    "    if a %2 == 0:\n",
    "        conttine\n",
    "    \n",
    "print(a)\n",
    "        "
   ]
  },
  {
   "cell_type": "code",
   "execution_count": null,
   "metadata": {},
   "outputs": [],
   "source": [
    "#"
   ]
  }
 ],
 "metadata": {
  "kernelspec": {
   "display_name": "Python 3",
   "language": "python",
   "name": "python3"
  },
  "language_info": {
   "codemirror_mode": {
    "name": "ipython",
    "version": 3
   },
   "file_extension": ".py",
   "mimetype": "text/x-python",
   "name": "python",
   "nbconvert_exporter": "python",
   "pygments_lexer": "ipython3",
   "version": "3.12.4"
  }
 },
 "nbformat": 4,
 "nbformat_minor": 2
}
