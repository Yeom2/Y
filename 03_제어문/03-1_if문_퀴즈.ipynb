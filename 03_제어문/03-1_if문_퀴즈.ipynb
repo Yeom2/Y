{
 "cells": [
  {
   "cell_type": "markdown",
   "metadata": {},
   "source": [
    "1. 주어진 세 개의 변수를 사용하여 다음 조건을 모두 만족하는 경우에만 \"Hello Python\"을 출력하는 코드를 작성하세요.\n",
    "* x는 짝수여야 한다.\n",
    "* y는 0보다 커야 한다.\n",
    "* z는 x와 y의 합보다 작아야 한다."
   ]
  },
  {
   "cell_type": "code",
   "execution_count": 21,
   "metadata": {},
   "outputs": [
    {
     "ename": "SyntaxError",
     "evalue": "invalid syntax (2611781328.py, line 9)",
     "output_type": "error",
     "traceback": [
      "\u001b[1;36m  Cell \u001b[1;32mIn[21], line 9\u001b[1;36m\u001b[0m\n\u001b[1;33m    if x % 2 == 0 y > 0  z < x + y\u001b[0m\n\u001b[1;37m                  ^\u001b[0m\n\u001b[1;31mSyntaxError\u001b[0m\u001b[1;31m:\u001b[0m invalid syntax\n"
     ]
    }
   ],
   "source": [
    "x = 8\n",
    "y = 5\n",
    "z = 12\n",
    "\n",
    "x % 2 == 0\n",
    "y > 0 \n",
    "z < x + y\n",
    "\n",
    "if x % 2 == 0 y > 0  z < x + y\n",
    "print(\"Hello Python\")\n"
   ]
  },
  {
   "cell_type": "markdown",
   "metadata": {},
   "source": [
    "2. 사용자로 부터 숫자가 짝수이면 \"짝수!\" 홀수 이면 \"홀수\"라고 출력하세요 "
   ]
  },
  {
   "cell_type": "code",
   "execution_count": 23,
   "metadata": {},
   "outputs": [
    {
     "name": "stdout",
     "output_type": "stream",
     "text": [
      "홀수\n"
     ]
    }
   ],
   "source": [
    "num = int(input(\"숫자를 입력하세요\"))\n",
    "\n",
    "if num % 2 == 0:\n",
    "    print(\"짝수\")\n",
    "else:\n",
    "    print(\"홀수\")"
   ]
  },
  {
   "cell_type": "markdown",
   "metadata": {},
   "source": [
    "3. 사용자로 부터 나이를 입력받으세요. 입력받은 수가 19세미만이면 \"미성년자입니다.\" 19세이상 65세미만 이면 \"성인입니다\" 65세이상이면 \"아직 청춘입니다.\" 라고 출력하세요"
   ]
  },
  {
   "cell_type": "code",
   "execution_count": 14,
   "metadata": {},
   "outputs": [
    {
     "name": "stdout",
     "output_type": "stream",
     "text": [
      "성인입니다.\n"
     ]
    }
   ],
   "source": [
    "age = int(input(\"나이를 입력하세요\"))\n",
    "\n",
    "if age < 19:\n",
    "    print(\"미성년자입니다.\")\n",
    "elif age >= 19 and age <65:\n",
    "    print(\"성인입니다.\")\n",
    "else:\n",
    "    print(\"아직 청춘입니다\")"
   ]
  },
  {
   "cell_type": "markdown",
   "metadata": {},
   "source": [
    "4. 주어진 문자열 text에 특정 단어 keyword가 포함되어 있는지 검사하는 코드를 작성하세요. 포함되어 있으면 \"Keyword found\", 포함되어 있지 않으면 \"Keyword not found\"를 출력하세요."
   ]
  },
  {
   "cell_type": "code",
   "execution_count": 17,
   "metadata": {},
   "outputs": [
    {
     "name": "stdout",
     "output_type": "stream",
     "text": [
      "keyword found\n"
     ]
    }
   ],
   "source": [
    "text = \"Life is too short, You need python\"\n",
    "keyword = \"python\"\n",
    "\n",
    "if keyword in text: \n",
    "    print(\"keyword found\")\n",
    "else:\n",
    "    print(\"keyword found\")"
   ]
  },
  {
   "cell_type": "markdown",
   "metadata": {},
   "source": [
    "5. 주어진 리스트 numbers에서 가장 큰 값이 짝수인지 홀수인지를 판단하는 코드를 작성하세요. 가장 큰 값이 짝수이면 \"가장 큰 수는 짝수입니다!\", 홀수이면 \"가장 큰 수는 홀수입니다\"를 출력하세요."
   ]
  },
  {
   "cell_type": "code",
   "execution_count": 26,
   "metadata": {},
   "outputs": [
    {
     "name": "stdout",
     "output_type": "stream",
     "text": [
      "가장 큰 수는 88짝수입니다.\n",
      "가장 작은 수는 2짝수입니다.\n"
     ]
    }
   ],
   "source": [
    "numbers = [34, 15, 88, 2, 47]\n",
    "\n",
    "if max(numbers) % 2 == 0:\n",
    "    print(f\"가장 큰 수는 {max(numbers)}짝수입니다.\")\n",
    "else:\n",
    "    print(f\"가장 큰 수는 {max(numbers)}홀수입니다.\")\n",
    "\n",
    "if min(numbers) % 2 == 0:\n",
    "    print(f\"가장 작은 수는 {min(numbers)}짝수입니다.\")\n",
    "else:\n",
    "    print(f\"가장 작은 수는 {min(numbers)}홀수입니다.\")"
   ]
  },
  {
   "cell_type": "markdown",
   "metadata": {},
   "source": [
    "6. 계산기를 만들어주세요. num1, num2에 입력값을 받아주세요. operator 변수는 (+, -, *, /) 중 하나를 입력 받으세요. operator 로 입력받은 값에 따라 num1 과 num2 를 연사하세요 "
   ]
  },
  {
   "cell_type": "code",
   "execution_count": 31,
   "metadata": {},
   "outputs": [
    {
     "name": "stdout",
     "output_type": "stream",
     "text": [
      "5 / 9 = 0.5555555555555556\n"
     ]
    }
   ],
   "source": [
    "num1 = int(input(\"숫자를 입력하세요(num1):\"))\n",
    "num2 = int(input(\"숫자를 입력하세요(num2):\"))\n",
    "operator = input(\"연산자를 선택해주세요(+,-,*,/ 중에서): \")\n",
    "\n",
    "if operator == \"+\":\n",
    "    print(f\"{num1} + {num2} = {num1 + num2}\")\n",
    "elif operator == \"-\":\n",
    "    print(f\"{num1} - {num2} = {num1 - num2}\")\n",
    "elif operator == \"*\":\n",
    "    print(f\"{num1} * {num2} = {num1 * num2}\")\n",
    "elif operator == \"/\":\n",
    "    print(f\"{num1} / {num2} = {num1 / num2}\")\n",
    "else:\n",
    "    print(\"올바른 연산자를 입력해 주세요\")"
   ]
  },
  {
   "cell_type": "code",
   "execution_count": null,
   "metadata": {},
   "outputs": [],
   "source": []
  }
 ],
 "metadata": {
  "kernelspec": {
   "display_name": "Python 3",
   "language": "python",
   "name": "python3"
  },
  "language_info": {
   "codemirror_mode": {
    "name": "ipython",
    "version": 3
   },
   "file_extension": ".py",
   "mimetype": "text/x-python",
   "name": "python",
   "nbconvert_exporter": "python",
   "pygments_lexer": "ipython3",
   "version": "3.12.4"
  }
 },
 "nbformat": 4,
 "nbformat_minor": 2
}
